{
 "cells": [
  {
   "cell_type": "markdown",
   "metadata": {},
   "source": [
    "# Three states MIS algorithm\n",
    "\n",
    "After simulating a guess algorithm for a 2 level rydberg atom system trying to solve MIS with adiabatic quantum computing"
   ]
  },
  {
   "cell_type": "code",
   "execution_count": 58,
   "metadata": {},
   "outputs": [],
   "source": [
    "import numpy as np\n",
    "import matplotlib.pyplot as plt\n",
    "from itertools import product\n",
    "# The library for quantum adiabatic simulations.\n",
    "from qutip import * \n",
    "from scipy import *\n",
    "# The library used for the graph representation.  \n",
    "import networkx as nx\n",
    "from guess_algorithm_helper import *\n",
    "from random import randint\n",
    "import ipynb.fs.defs.guess_algorithm as algo"
   ]
  },
  {
   "cell_type": "markdown",
   "metadata": {},
   "source": [
    "and follow up complexity testing compared to classical algorithms"
   ]
  },
  {
   "cell_type": "code",
   "execution_count": 59,
   "metadata": {},
   "outputs": [],
   "source": [
    "import ipynb.fs.defs.guess_algorithm_tester as tester"
   ]
  },
  {
   "cell_type": "markdown",
   "metadata": {},
   "source": [
    "We got mixed results. When the guess was close to the expected results, the guess did amazing and we saw huge improvement. \n",
    "However, when the guess wasn't as close, as expected the normal algorithm which starts with a ground state for all atoms did better. \n",
    "\n",
    "Hence, we want to implement Luby's algorithm, which uses degree based guesses and is one of the best MIS solvers in classical algorithms. Meaning that our goal is implementing something like:\n",
    "$$|\\psi_0 \\rangle=\\sqrt{\\frac{1}{dv}} |r \\rangle + \\sqrt{1-\\frac{1}{dv}} |g \\rangle$$\n",
    "\n",
    "Which would be great, but is also impossible. That is because this will have a probability of neighboring vertexs being in Rydberg states.\n",
    "To solve that, we will attempt to create a three level system. In the beginning we will only have states at $|0 \\rangle$ and $|1 \\rangle$. where $|1 \\rangle$ is choosing the vertex and $|0 \\rangle$ is not choosing the vertex. Meaning that \n",
    "$$|\\psi_0 \\rangle=\\sqrt{\\frac{1}{dv}} |1 \\rangle + \\sqrt{1-\\frac{1}{dv}} |0 \\rangle$$\n",
    " \n",
    "Just like we wanted. And the starting hamiltonain will also reflect that. After some time, using some rabi frequency $\\Omega(t)$, we will move as many atoms as possible from $|1 \\rangle$ to $|r \\rangle$. Which can be looked as as the original 2 states algorithm with $|1 \\rangle$ being the ground. \n",
    "\n",
    "Since at the start the rydberg state probability is 0, all initial states will be viable ground states without any need for $H_0$ to be implemented at the start of the run.Hence we get:\n",
    "\n",
    "$$\\begin{cases}\n",
    "H_0 = \\sum_{n=1}^NI - \\sigma_{x_{1,r}} ^n \\\\\n",
    "H_p = -\\Delta n_v \\\\\n",
    "H_{int} = \\sum_{v<w}V/x^6(|\\vec{x}_v-\\vec{x}_w|)n_vn_w\n",
    "\\end{cases}\n",
    "$$\n",
    "\n",
    "With \n",
    "$$\\sigma_{x_{1,r}} = \\begin{pmatrix}\n",
    "0 & 0 & 0 \\\\\n",
    "0 & 0 & 1 \\\\\n",
    "0 & 1 & 0\n",
    "\\end{pmatrix}$$\n",
    "\n",
    "Using that we can build a full hamiltonian:\n",
    "$$H_{tot} = H_0 \\Omega(t) + H_p\\Delta(t) + H_{int}$$"
   ]
  },
  {
   "cell_type": "code",
   "execution_count": 6,
   "metadata": {},
   "outputs": [
    {
     "ename": "AttributeError",
     "evalue": "module 'ipynb.fs.defs.guess_algorithm' has no attribute 'BaseHamiltonian'",
     "output_type": "error",
     "traceback": [
      "\u001b[0;31m---------------------------------------------------------------------------\u001b[0m",
      "\u001b[0;31mAttributeError\u001b[0m                            Traceback (most recent call last)",
      "Cell \u001b[0;32mIn[6], line 3\u001b[0m\n\u001b[1;32m      1\u001b[0m \u001b[38;5;28;01mfrom\u001b[39;00m \u001b[38;5;21;01mqutip\u001b[39;00m \u001b[38;5;28;01mimport\u001b[39;00m qeye, basis, Qobj, tensor, sigmaz\n\u001b[0;32m----> 3\u001b[0m \u001b[38;5;28;01mclass\u001b[39;00m \u001b[38;5;21;01mLubyHamiltonian\u001b[39;00m(\u001b[43malgo\u001b[49m\u001b[38;5;241;43m.\u001b[39;49m\u001b[43mBaseHamiltonian\u001b[49m):\n\u001b[1;32m      4\u001b[0m     \u001b[38;5;28;01mdef\u001b[39;00m \u001b[38;5;21mgenerate_operators\u001b[39m(\u001b[38;5;28mself\u001b[39m):\n\u001b[1;32m      5\u001b[0m \u001b[38;5;250m        \u001b[39m\u001b[38;5;124;03m\"\"\"\u001b[39;00m\n\u001b[1;32m      6\u001b[0m \u001b[38;5;124;03m        Generates useful quantum operators for a system of N states, including a custom sigma_x operator.\u001b[39;00m\n\u001b[1;32m      7\u001b[0m \n\u001b[0;32m   (...)\u001b[0m\n\u001b[1;32m     14\u001b[0m \u001b[38;5;124;03m            (sx_list, sz_list, one_list, I_N)\u001b[39;00m\n\u001b[1;32m     15\u001b[0m \u001b[38;5;124;03m        \"\"\"\u001b[39;00m\n",
      "\u001b[0;31mAttributeError\u001b[0m: module 'ipynb.fs.defs.guess_algorithm' has no attribute 'BaseHamiltonian'"
     ]
    }
   ],
   "source": [
    "from qutip import qeye, basis, Qobj, tensor, sigmaz\n",
    "\n",
    "class LubyHamiltonian(algo.BaseHamiltonian):\n",
    "    def generate_operators(self):\n",
    "        \"\"\"\n",
    "        Generates useful quantum operators for a system of N states, including a custom sigma_x operator.\n",
    "\n",
    "        Parameters:\n",
    "        N (int): The number of operators to generate.\n",
    "        num_states (int): The dimension of the Hilbert space for each state (e.g., 2 for qubits, 3 for qutrits).\n",
    "\n",
    "        Returns:\n",
    "        tuple: A tuple containing lists of tensor products of generalized operators.\n",
    "            (sx_list, sz_list, one_list, I_N)\n",
    "        \"\"\"\n",
    "        # Identity operator for the specified number of states\n",
    "        si = qeye(3)\n",
    "\n",
    "        # Custom σ_x operator for states |1> and |2>, converted to Qobj\n",
    "        sx_custom = Qobj([[0, 0, 0],\n",
    "                        [0, 0, 1],\n",
    "                        [0, 1, 0]])\n",
    "\n",
    "        # Initialize empty lists for storing operators\n",
    "        sx_list = []\n",
    "        sz_list = []\n",
    "        one_list = []\n",
    "\n",
    "        # Identity tensor for N states\n",
    "        I_N = tensor([si] * self.N)\n",
    "\n",
    "        # Generate the operators\n",
    "        for n in range(self.N):\n",
    "            # Initialize a list of identities for the tensor product\n",
    "            op_list = [si] * self.N\n",
    "\n",
    "            # Replace the n-th position with the custom sx operator\n",
    "            op_list[n] = sx_custom\n",
    "            sx_list.append(tensor(op_list))\n",
    "\n",
    "            # Replace the n-th position with the sz operator\n",
    "            sz = Qobj(sigmaz().full()[:3, :3])  # Define sz for the 3-state system\n",
    "            op_list[n] = sz\n",
    "            sz_list.append(tensor(op_list))\n",
    "\n",
    "            # Replace the n-th position with |1><1|\n",
    "            one = basis(3, 1)  # |1><1| in higher dimensions\n",
    "            op_list[n] = one * one.dag()\n",
    "            one_list.append(tensor(op_list))\n",
    "\n",
    "        return sx_list, sz_list, one_list, I_N\n",
    "\n",
    "    def create_hamiltonian(self):\n",
    "        # Base class already calculates the interaction Hamiltonian (H_int)\n",
    "        H_int = self.create_interaction_term()\n",
    "\n",
    "        # Specific terms for this Hamiltonian\n",
    "        CL_H0 = self.I_N - sum(self.sx_list)  # Example term for the Hamiltonian\n",
    "        Hp = -sum(self.one_list)  # Example term for the Hamiltonian\n",
    "\n",
    "        # Return the Hamiltonian in the required format\n",
    "        return [[CL_H0, self.params['Omega']], [Hp, self.params['Delta']], H_int]\n",
    "    \n",
    "    def initialize_state(self):\n",
    "        guesses = [(np.sqrt(1/self.graph.degree[n]))*basis(3, 1) +  (np.sqrt(1-1/self.graph.degree[n]))*basis(3, 0) for n in range(self.N)]\n",
    "        return qutip.tensor(guesses)\n",
    "\n"
   ]
  },
  {
   "cell_type": "markdown",
   "metadata": {},
   "source": [
    "## Testing the algorithm"
   ]
  },
  {
   "cell_type": "code",
   "execution_count": 5,
   "metadata": {},
   "outputs": [
    {
     "ename": "NameError",
     "evalue": "name 'LubyHamiltonian' is not defined",
     "output_type": "error",
     "traceback": [
      "\u001b[0;31m---------------------------------------------------------------------------\u001b[0m",
      "\u001b[0;31mNameError\u001b[0m                                 Traceback (most recent call last)",
      "Cell \u001b[0;32mIn[5], line 5\u001b[0m\n\u001b[1;32m      3\u001b[0m chain_graph\u001b[38;5;241m.\u001b[39mcreate_graph()\n\u001b[1;32m      4\u001b[0m \u001b[38;5;66;03m# Initialize Hamiltonians\u001b[39;00m\n\u001b[0;32m----> 5\u001b[0m luby_hamiltonian \u001b[38;5;241m=\u001b[39m \u001b[43mLubyHamiltonian\u001b[49m(init_params, chain_graph)\n\u001b[1;32m      7\u001b[0m \u001b[38;5;66;03m# Solve each Hamiltonian\u001b[39;00m\n\u001b[1;32m      8\u001b[0m luby_h_t, luby_result \u001b[38;5;241m=\u001b[39m luby_hamiltonian\u001b[38;5;241m.\u001b[39msolve()\n",
      "\u001b[0;31mNameError\u001b[0m: name 'LubyHamiltonian' is not defined"
     ]
    }
   ],
   "source": [
    "init_params = algo.initialize_system_parameters(vertex_placement = 0.8)\n",
    "chain_graph = algo.ChainGraph(5)\n",
    "chain_graph.create_graph()\n",
    "# Initialize Hamiltonians\n",
    "luby_hamiltonian = LubyHamiltonian(init_params, chain_graph)\n",
    "\n",
    "# Solve each Hamiltonian\n",
    "luby_h_t, luby_result = luby_hamiltonian.solve()\n",
    "\n",
    "# Consolidate results\n",
    "hamiltonians_out = {\n",
    "    \"luby\": luby_h_t\n",
    "}\n",
    "\n",
    "results_out = {\n",
    "    \"luby\": luby_result\n",
    "}\n",
    "algo.plot_probabilities(results_out, luby_hamiltonian.N, graph_type=\"Chain\", graph=chain_graph, threshold=0.01)"
   ]
  }
 ],
 "metadata": {
  "kernelspec": {
   "display_name": "Python 3",
   "language": "python",
   "name": "python3"
  },
  "language_info": {
   "codemirror_mode": {
    "name": "ipython",
    "version": 3
   },
   "file_extension": ".py",
   "mimetype": "text/x-python",
   "name": "python",
   "nbconvert_exporter": "python",
   "pygments_lexer": "ipython3",
   "version": "3.12.7"
  }
 },
 "nbformat": 4,
 "nbformat_minor": 2
}
