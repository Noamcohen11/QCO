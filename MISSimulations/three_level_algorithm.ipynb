{
 "cells": [
  {
   "cell_type": "markdown",
   "metadata": {},
   "source": [
    "# Three states MIS algorithm\n",
    "\n",
    "After simulating a guess algorithm for a 2 level rydberg atom system trying to solve MIS with adiabatic quantum computing"
   ]
  },
  {
   "cell_type": "code",
   "execution_count": 1,
   "metadata": {},
   "outputs": [],
   "source": [
    "from qutip import qeye, basis, tensor\n",
    "import ipynb.fs.defs.guess_algorithm as algo"
   ]
  },
  {
   "cell_type": "markdown",
   "metadata": {},
   "source": [
    "and follow up complexity testing compared to classical algorithms"
   ]
  },
  {
   "cell_type": "code",
   "execution_count": 2,
   "metadata": {},
   "outputs": [
    {
     "name": "stderr",
     "output_type": "stream",
     "text": [
      "<unknown>:302: SyntaxWarning: invalid escape sequence '\\m'\n",
      "<unknown>:337: SyntaxWarning: invalid escape sequence '\\m'\n"
     ]
    }
   ],
   "source": [
    "import ipynb.fs.defs.guess_algorithm_tester as tester"
   ]
  },
  {
   "cell_type": "markdown",
   "metadata": {},
   "source": [
    "We got mixed results. When the guess was close to the expected results, the guess did amazing and we saw huge improvement. \n",
    "However, when the guess wasn't as close, as expected the normal algorithm which starts with a ground state for all atoms did better. \n",
    "\n",
    "Hence, we want to implement Luby's algorithm, which uses degree based guesses and is one of the best MIS solvers in classical algorithms. Meaning that our goal is implementing something like:\n",
    "$$|\\psi_0 \\rangle=\\sqrt{\\frac{1}{dv}} |r \\rangle + \\sqrt{1-\\frac{1}{dv}} |g \\rangle$$\n",
    "\n",
    "Which would be great, but is also impossible. That is because this will have a probability of neighboring vertexs being in Rydberg states.\n",
    "To solve that, we will attempt to create a three level system. In the beginning we will only have states at $|0 \\rangle$ and $|1 \\rangle$. where $|1 \\rangle$ is choosing the vertex and $|0 \\rangle$ is not choosing the vertex. Meaning that \n",
    "$$|\\psi_0 \\rangle=\\sqrt{\\frac{1}{dv}} |1 \\rangle + \\sqrt{1-\\frac{1}{dv}} |0 \\rangle$$\n",
    " \n",
    "Just like we wanted. And the starting hamiltonain will also reflect that. After some time, using some rabi frequency $\\Omega(t)$, we will move as many atoms as possible from $|1 \\rangle$ to $|r \\rangle$. Which can be looked as as the original 2 states algorithm with $|1 \\rangle$ being the ground. \n",
    "\n",
    "Since at the start the rydberg state probability is 0, all initial states will be viable ground states without any need for $H_0$ to be implemented at the start of the run.Hence we get:\n",
    "\n",
    "$$\\begin{cases}\n",
    "H_0 = \\sum_{n=1}^NI - \\sigma_{x_{1,r}} ^n \\\\\n",
    "H_p = -\\Delta n_v \\\\\n",
    "H_{int} = \\sum_{v<w}V/x^6(|\\vec{x}_v-\\vec{x}_w|)n_vn_w\n",
    "\\end{cases}\n",
    "$$\n",
    "\n",
    "With \n",
    "$$\\sigma_{x_{1,r}} = \\begin{pmatrix}\n",
    "0 & 0 & 0 \\\\\n",
    "0 & 0 & 1 \\\\\n",
    "0 & 1 & 0\n",
    "\\end{pmatrix}$$\n",
    "\n",
    "Using that we can build a full hamiltonian:\n",
    "$$H_{tot} = H_0 \\Omega(t) + H_p\\Delta(t) + H_{int}$$"
   ]
  },
  {
   "cell_type": "code",
   "execution_count": 3,
   "metadata": {},
   "outputs": [],
   "source": [
    "def generate_operators(N, num_states=3):\n",
    "    \"\"\"\n",
    "    Generates useful quantum operators for a system of N states, including a custom sigma_x operator.\n",
    "\n",
    "    Parameters:\n",
    "    N (int): The number of operators to generate.\n",
    "    num_states (int): The dimension of the Hilbert space for each state (e.g., 2 for qubits, 3 for qutrits).\n",
    "\n",
    "    Returns:\n",
    "    tuple: A tuple containing lists of tensor products of generalized operators.\n",
    "           (sx_list, sz_list, one_list, I_N)\n",
    "    \"\"\"\n",
    "    # Identity operator for the specified number of states\n",
    "    si = qeye(num_states)\n",
    "\n",
    "    # Custom σ_x operator for states |1> and |2>\n",
    "    sx_custom = np.array([[0, 0, 0],\n",
    "                          [0, 0, 1],\n",
    "                          [0, 1, 0]])\n",
    "\n",
    "    # Initialize empty lists for storing operators\n",
    "    sx_list = []\n",
    "    sz_list = []\n",
    "    one_list = []\n",
    "\n",
    "    # Identity tensor for N states\n",
    "    I_N = tensor([si] * N)\n",
    "\n",
    "    # Generate the operators\n",
    "    for n in range(N):\n",
    "        # Initialize a list of identities for the tensor product\n",
    "        op_list = [si] * N\n",
    "\n",
    "        # Replace the n-th position with the custom sx operator\n",
    "        op_list[n] = tensor(sx_custom)  # Use tensor product with custom sx\n",
    "        sx_list.append(tensor(op_list))\n",
    "\n",
    "        # Replace the n-th position with the sz operator\n",
    "        op_list[n] = sigmaz().full()[:num_states, :num_states]  # Define sz for the 3-state system\n",
    "        sz_list.append(tensor(op_list))\n",
    "\n",
    "        # Replace the n-th position with |1><1|\n",
    "        one = basis(num_states, 1)  # |1><1| in higher dimensions\n",
    "        op_list[n] = one * one.dag()\n",
    "        one_list.append(tensor(op_list))\n",
    "\n",
    "    return sx_list, sz_list, one_list, I_N"
   ]
  }
 ],
 "metadata": {
  "kernelspec": {
   "display_name": "Python 3",
   "language": "python",
   "name": "python3"
  },
  "language_info": {
   "codemirror_mode": {
    "name": "ipython",
    "version": 3
   },
   "file_extension": ".py",
   "mimetype": "text/x-python",
   "name": "python",
   "nbconvert_exporter": "python",
   "pygments_lexer": "ipython3",
   "version": "3.12.7"
  }
 },
 "nbformat": 4,
 "nbformat_minor": 2
}
